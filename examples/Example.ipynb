{
 "cells": [
  {
   "cell_type": "code",
   "execution_count": 1,
   "id": "5c167be5",
   "metadata": {},
   "outputs": [],
   "source": [
    "import sys\n",
    "import os\n",
    "sys.path.append(os.path.abspath('../dataversioner'))"
   ]
  },
  {
   "cell_type": "markdown",
   "id": "69950e27",
   "metadata": {},
   "source": [
    "# Data Versioner \n",
    "## Quick start"
   ]
  },
  {
   "cell_type": "code",
   "execution_count": 2,
   "id": "477d7d27",
   "metadata": {},
   "outputs": [],
   "source": [
    "from dataversioner import DataVersioner\n",
    "import pandas as pd"
   ]
  },
  {
   "cell_type": "code",
   "execution_count": 3,
   "id": "a279c70d",
   "metadata": {},
   "outputs": [
    {
     "data": {
      "text/html": [
       "<div>\n",
       "<style scoped>\n",
       "    .dataframe tbody tr th:only-of-type {\n",
       "        vertical-align: middle;\n",
       "    }\n",
       "\n",
       "    .dataframe tbody tr th {\n",
       "        vertical-align: top;\n",
       "    }\n",
       "\n",
       "    .dataframe thead th {\n",
       "        text-align: right;\n",
       "    }\n",
       "</style>\n",
       "<table border=\"1\" class=\"dataframe\">\n",
       "  <thead>\n",
       "    <tr style=\"text-align: right;\">\n",
       "      <th></th>\n",
       "      <th>a</th>\n",
       "      <th>b</th>\n",
       "      <th>c</th>\n",
       "    </tr>\n",
       "  </thead>\n",
       "  <tbody>\n",
       "    <tr>\n",
       "      <th>0</th>\n",
       "      <td>1</td>\n",
       "      <td>2</td>\n",
       "      <td>3</td>\n",
       "    </tr>\n",
       "    <tr>\n",
       "      <th>1</th>\n",
       "      <td>4</td>\n",
       "      <td>5</td>\n",
       "      <td>6</td>\n",
       "    </tr>\n",
       "    <tr>\n",
       "      <th>2</th>\n",
       "      <td>7</td>\n",
       "      <td>8</td>\n",
       "      <td>9</td>\n",
       "    </tr>\n",
       "  </tbody>\n",
       "</table>\n",
       "</div>"
      ],
      "text/plain": [
       "   a  b  c\n",
       "0  1  2  3\n",
       "1  4  5  6\n",
       "2  7  8  9"
      ]
     },
     "execution_count": 3,
     "metadata": {},
     "output_type": "execute_result"
    }
   ],
   "source": [
    "df = pd.DataFrame([[1, 2, 3], [4, 5, 6], [7, 8, 9]], \n",
    "                  columns = [\"a\", \"b\", \"c\"])\n",
    "df"
   ]
  },
  {
   "cell_type": "markdown",
   "id": "21f345bb",
   "metadata": {},
   "source": [
    "Create your data versioner by passing your pandas dataframe into **DataVersioner()**"
   ]
  },
  {
   "cell_type": "code",
   "execution_count": 4,
   "id": "13575e83",
   "metadata": {},
   "outputs": [],
   "source": [
    "dv = DataVersioner(df)"
   ]
  },
  {
   "cell_type": "markdown",
   "id": "506bd03e",
   "metadata": {},
   "source": [
    "Check current commit with **status()**"
   ]
  },
  {
   "cell_type": "code",
   "execution_count": 5,
   "id": "97a1944e",
   "metadata": {},
   "outputs": [
    {
     "name": "stdout",
     "output_type": "stream",
     "text": [
      "'Initial df' - First commit of data\n",
      "Committed at 11:03 PM on Mar 15, 2022\n",
      "\n",
      "   a  b  c\n",
      "0  1  2  3\n",
      "1  4  5  6\n",
      "2  7  8  9\n"
     ]
    }
   ],
   "source": [
    "dv.status()"
   ]
  },
  {
   "cell_type": "markdown",
   "id": "c05e4634",
   "metadata": {},
   "source": [
    "Review all commits with **commits()**"
   ]
  },
  {
   "cell_type": "code",
   "execution_count": 6,
   "id": "696f3f16",
   "metadata": {},
   "outputs": [
    {
     "data": {
      "text/plain": [
       "['Initial df']"
      ]
     },
     "execution_count": 6,
     "metadata": {},
     "output_type": "execute_result"
    }
   ],
   "source": [
    "dv.commits()"
   ]
  },
  {
   "cell_type": "markdown",
   "id": "4694feb0",
   "metadata": {},
   "source": [
    "Peform your analysis on using **data**"
   ]
  },
  {
   "cell_type": "code",
   "execution_count": 7,
   "id": "fbd40cbe",
   "metadata": {},
   "outputs": [
    {
     "data": {
      "text/html": [
       "<div>\n",
       "<style scoped>\n",
       "    .dataframe tbody tr th:only-of-type {\n",
       "        vertical-align: middle;\n",
       "    }\n",
       "\n",
       "    .dataframe tbody tr th {\n",
       "        vertical-align: top;\n",
       "    }\n",
       "\n",
       "    .dataframe thead th {\n",
       "        text-align: right;\n",
       "    }\n",
       "</style>\n",
       "<table border=\"1\" class=\"dataframe\">\n",
       "  <thead>\n",
       "    <tr style=\"text-align: right;\">\n",
       "      <th></th>\n",
       "      <th>a</th>\n",
       "      <th>b</th>\n",
       "      <th>c</th>\n",
       "      <th>abc sum</th>\n",
       "    </tr>\n",
       "  </thead>\n",
       "  <tbody>\n",
       "    <tr>\n",
       "      <th>0</th>\n",
       "      <td>1</td>\n",
       "      <td>2</td>\n",
       "      <td>3</td>\n",
       "      <td>6</td>\n",
       "    </tr>\n",
       "    <tr>\n",
       "      <th>1</th>\n",
       "      <td>4</td>\n",
       "      <td>5</td>\n",
       "      <td>6</td>\n",
       "      <td>15</td>\n",
       "    </tr>\n",
       "    <tr>\n",
       "      <th>2</th>\n",
       "      <td>7</td>\n",
       "      <td>8</td>\n",
       "      <td>9</td>\n",
       "      <td>24</td>\n",
       "    </tr>\n",
       "  </tbody>\n",
       "</table>\n",
       "</div>"
      ],
      "text/plain": [
       "   a  b  c  abc sum\n",
       "0  1  2  3        6\n",
       "1  4  5  6       15\n",
       "2  7  8  9       24"
      ]
     },
     "execution_count": 7,
     "metadata": {},
     "output_type": "execute_result"
    }
   ],
   "source": [
    "dv.data['abc sum'] = dv.data.sum(axis=1)\n",
    "dv.data"
   ]
  },
  {
   "cell_type": "markdown",
   "id": "41cbde33",
   "metadata": {},
   "source": [
    "Checkpoint your progress by adding a commit with **commit()**"
   ]
  },
  {
   "cell_type": "code",
   "execution_count": 8,
   "id": "8588a44a",
   "metadata": {},
   "outputs": [
    {
     "data": {
      "text/plain": [
       "['Initial df', 'Row sum']"
      ]
     },
     "execution_count": 8,
     "metadata": {},
     "output_type": "execute_result"
    }
   ],
   "source": [
    "dv.commit(name = \"Row sum\", message = \"Added 'sum' of a, b, c\")\n",
    "dv.commits()"
   ]
  },
  {
   "cell_type": "code",
   "execution_count": 9,
   "id": "f7ba9409",
   "metadata": {},
   "outputs": [
    {
     "name": "stdout",
     "output_type": "stream",
     "text": [
      "'Row sum' - Added 'sum' of a, b, c\n",
      "Committed at 11:03 PM on Mar 15, 2022\n",
      "\n",
      "   a  b  c  abc sum\n",
      "0  1  2  3        6\n",
      "1  4  5  6       15\n",
      "2  7  8  9       24\n"
     ]
    }
   ],
   "source": [
    "dv.status()"
   ]
  },
  {
   "cell_type": "markdown",
   "id": "7b887d05",
   "metadata": {},
   "source": [
    "View any commit with **show_commit()**"
   ]
  },
  {
   "cell_type": "code",
   "execution_count": 10,
   "id": "997bd10c",
   "metadata": {},
   "outputs": [
    {
     "name": "stdout",
     "output_type": "stream",
     "text": [
      "'Initial df' - First commit of data\n",
      "Committed at 11:03 PM on Mar 15, 2022\n",
      "\n",
      "   a  b  c\n",
      "0  1  2  3\n",
      "1  4  5  6\n",
      "2  7  8  9\n"
     ]
    }
   ],
   "source": [
    "dv.show_commit('Initial df')"
   ]
  },
  {
   "cell_type": "markdown",
   "id": "d3e8b8db",
   "metadata": {},
   "source": [
    "View the commit tree structure with **show_commits()**"
   ]
  },
  {
   "cell_type": "code",
   "execution_count": 11,
   "id": "34732576",
   "metadata": {},
   "outputs": [
    {
     "name": "stdout",
     "output_type": "stream",
     "text": [
      "Initial df\n",
      "   - Row sum\n",
      "\n"
     ]
    }
   ],
   "source": [
    "dv.show_commits()"
   ]
  },
  {
   "cell_type": "markdown",
   "id": "a9342a68",
   "metadata": {},
   "source": [
    "Check out a previous commit to resume your analysis where you left off with **checkout()** "
   ]
  },
  {
   "cell_type": "code",
   "execution_count": 12,
   "id": "fdbde8c4",
   "metadata": {},
   "outputs": [
    {
     "data": {
      "text/html": [
       "<div>\n",
       "<style scoped>\n",
       "    .dataframe tbody tr th:only-of-type {\n",
       "        vertical-align: middle;\n",
       "    }\n",
       "\n",
       "    .dataframe tbody tr th {\n",
       "        vertical-align: top;\n",
       "    }\n",
       "\n",
       "    .dataframe thead th {\n",
       "        text-align: right;\n",
       "    }\n",
       "</style>\n",
       "<table border=\"1\" class=\"dataframe\">\n",
       "  <thead>\n",
       "    <tr style=\"text-align: right;\">\n",
       "      <th></th>\n",
       "      <th>a</th>\n",
       "      <th>b</th>\n",
       "      <th>c</th>\n",
       "    </tr>\n",
       "  </thead>\n",
       "  <tbody>\n",
       "    <tr>\n",
       "      <th>0</th>\n",
       "      <td>1</td>\n",
       "      <td>2</td>\n",
       "      <td>3</td>\n",
       "    </tr>\n",
       "    <tr>\n",
       "      <th>1</th>\n",
       "      <td>4</td>\n",
       "      <td>5</td>\n",
       "      <td>6</td>\n",
       "    </tr>\n",
       "    <tr>\n",
       "      <th>2</th>\n",
       "      <td>7</td>\n",
       "      <td>8</td>\n",
       "      <td>9</td>\n",
       "    </tr>\n",
       "  </tbody>\n",
       "</table>\n",
       "</div>"
      ],
      "text/plain": [
       "   a  b  c\n",
       "0  1  2  3\n",
       "1  4  5  6\n",
       "2  7  8  9"
      ]
     },
     "execution_count": 12,
     "metadata": {},
     "output_type": "execute_result"
    }
   ],
   "source": [
    "dv.checkout('Initial df')\n",
    "dv.data"
   ]
  },
  {
   "cell_type": "markdown",
   "id": "ca585dcd",
   "metadata": {},
   "source": [
    "To **checkout()** a commit when data has uncommitted changes the parameter **allow_discard_changes** must be True"
   ]
  },
  {
   "cell_type": "code",
   "execution_count": 13,
   "id": "1f1719d6",
   "metadata": {},
   "outputs": [],
   "source": [
    "dv.data['c * a'] = dv.data['c'] * dv.data['a']\n",
    "dv.checkout('Initial df', allow_discard_changes = True)"
   ]
  },
  {
   "cell_type": "markdown",
   "id": "8f529021",
   "metadata": {},
   "source": [
    "Or **commit()** your progress first to **checkout()** as usual"
   ]
  },
  {
   "cell_type": "code",
   "execution_count": 14,
   "id": "6b3463a9",
   "metadata": {},
   "outputs": [
    {
     "name": "stdout",
     "output_type": "stream",
     "text": [
      "Initial df\n",
      "   - Row sum\n",
      "   - c times a\n",
      "\n"
     ]
    }
   ],
   "source": [
    "dv.data['c * a'] = dv.data['c'] * dv.data['a']\n",
    "dv.commit(\"c times a\", \"Added product of c and a\")\n",
    "dv.show_commits()"
   ]
  },
  {
   "cell_type": "code",
   "execution_count": 15,
   "id": "55b2fa99",
   "metadata": {},
   "outputs": [
    {
     "data": {
      "text/html": [
       "<div>\n",
       "<style scoped>\n",
       "    .dataframe tbody tr th:only-of-type {\n",
       "        vertical-align: middle;\n",
       "    }\n",
       "\n",
       "    .dataframe tbody tr th {\n",
       "        vertical-align: top;\n",
       "    }\n",
       "\n",
       "    .dataframe thead th {\n",
       "        text-align: right;\n",
       "    }\n",
       "</style>\n",
       "<table border=\"1\" class=\"dataframe\">\n",
       "  <thead>\n",
       "    <tr style=\"text-align: right;\">\n",
       "      <th></th>\n",
       "      <th>a</th>\n",
       "      <th>b</th>\n",
       "      <th>c</th>\n",
       "      <th>abc sum</th>\n",
       "    </tr>\n",
       "  </thead>\n",
       "  <tbody>\n",
       "    <tr>\n",
       "      <th>0</th>\n",
       "      <td>1</td>\n",
       "      <td>2</td>\n",
       "      <td>3</td>\n",
       "      <td>6</td>\n",
       "    </tr>\n",
       "    <tr>\n",
       "      <th>1</th>\n",
       "      <td>4</td>\n",
       "      <td>5</td>\n",
       "      <td>6</td>\n",
       "      <td>15</td>\n",
       "    </tr>\n",
       "    <tr>\n",
       "      <th>2</th>\n",
       "      <td>7</td>\n",
       "      <td>8</td>\n",
       "      <td>9</td>\n",
       "      <td>24</td>\n",
       "    </tr>\n",
       "  </tbody>\n",
       "</table>\n",
       "</div>"
      ],
      "text/plain": [
       "   a  b  c  abc sum\n",
       "0  1  2  3        6\n",
       "1  4  5  6       15\n",
       "2  7  8  9       24"
      ]
     },
     "execution_count": 15,
     "metadata": {},
     "output_type": "execute_result"
    }
   ],
   "source": [
    "dv.checkout('Row sum')\n",
    "dv.data"
   ]
  },
  {
   "cell_type": "code",
   "execution_count": 16,
   "id": "e03c6cd6",
   "metadata": {},
   "outputs": [
    {
     "data": {
      "text/html": [
       "<div>\n",
       "<style scoped>\n",
       "    .dataframe tbody tr th:only-of-type {\n",
       "        vertical-align: middle;\n",
       "    }\n",
       "\n",
       "    .dataframe tbody tr th {\n",
       "        vertical-align: top;\n",
       "    }\n",
       "\n",
       "    .dataframe thead th {\n",
       "        text-align: right;\n",
       "    }\n",
       "</style>\n",
       "<table border=\"1\" class=\"dataframe\">\n",
       "  <thead>\n",
       "    <tr style=\"text-align: right;\">\n",
       "      <th></th>\n",
       "      <th>a</th>\n",
       "      <th>b</th>\n",
       "      <th>c</th>\n",
       "      <th>abc sum</th>\n",
       "    </tr>\n",
       "  </thead>\n",
       "  <tbody>\n",
       "    <tr>\n",
       "      <th>0</th>\n",
       "      <td>1</td>\n",
       "      <td>2</td>\n",
       "      <td>3</td>\n",
       "      <td>6</td>\n",
       "    </tr>\n",
       "    <tr>\n",
       "      <th>1</th>\n",
       "      <td>4</td>\n",
       "      <td>5</td>\n",
       "      <td>6</td>\n",
       "      <td>15</td>\n",
       "    </tr>\n",
       "    <tr>\n",
       "      <th>2</th>\n",
       "      <td>7</td>\n",
       "      <td>8</td>\n",
       "      <td>9</td>\n",
       "      <td>24</td>\n",
       "    </tr>\n",
       "    <tr>\n",
       "      <th>3</th>\n",
       "      <td>10</td>\n",
       "      <td>20</td>\n",
       "      <td>30</td>\n",
       "      <td>60</td>\n",
       "    </tr>\n",
       "    <tr>\n",
       "      <th>4</th>\n",
       "      <td>40</td>\n",
       "      <td>50</td>\n",
       "      <td>60</td>\n",
       "      <td>150</td>\n",
       "    </tr>\n",
       "    <tr>\n",
       "      <th>5</th>\n",
       "      <td>70</td>\n",
       "      <td>80</td>\n",
       "      <td>90</td>\n",
       "      <td>240</td>\n",
       "    </tr>\n",
       "  </tbody>\n",
       "</table>\n",
       "</div>"
      ],
      "text/plain": [
       "    a   b   c  abc sum\n",
       "0   1   2   3        6\n",
       "1   4   5   6       15\n",
       "2   7   8   9       24\n",
       "3  10  20  30       60\n",
       "4  40  50  60      150\n",
       "5  70  80  90      240"
      ]
     },
     "execution_count": 16,
     "metadata": {},
     "output_type": "execute_result"
    }
   ],
   "source": [
    "dv.data = pd.concat([dv.data, dv.data * 10], ignore_index=True)\n",
    "dv.commit('Concat rows * 10', 'Concatenated data multiplied by 10 to data')\n",
    "dv.data"
   ]
  },
  {
   "cell_type": "markdown",
   "id": "fd4a43ad",
   "metadata": {},
   "source": [
    "View commit tree with message when parameter **verbose** is True"
   ]
  },
  {
   "cell_type": "code",
   "execution_count": 17,
   "id": "cef2a586",
   "metadata": {},
   "outputs": [
    {
     "name": "stdout",
     "output_type": "stream",
     "text": [
      "Initial df                        First commit of data\n",
      "   - Row sum                      Added 'sum' of a, b, c\n",
      "        - Concat rows * 10        Concatenated data multiplied by 10 to data\n",
      "   - c times a                    Added product of c and a\n",
      "\n"
     ]
    }
   ],
   "source": [
    "dv.show_commits(verbose = True)"
   ]
  }
 ],
 "metadata": {
  "kernelspec": {
   "display_name": "Python 3 (ipykernel)",
   "language": "python",
   "name": "python3"
  },
  "language_info": {
   "codemirror_mode": {
    "name": "ipython",
    "version": 3
   },
   "file_extension": ".py",
   "mimetype": "text/x-python",
   "name": "python",
   "nbconvert_exporter": "python",
   "pygments_lexer": "ipython3",
   "version": "3.9.7"
  }
 },
 "nbformat": 4,
 "nbformat_minor": 5
}
